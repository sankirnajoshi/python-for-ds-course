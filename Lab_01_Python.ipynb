{
  "nbformat": 4,
  "nbformat_minor": 0,
  "metadata": {
    "kernelspec": {
      "display_name": "Python 3",
      "language": "python",
      "name": "python3"
    },
    "language_info": {
      "codemirror_mode": {
        "name": "ipython",
        "version": 3
      },
      "file_extension": ".py",
      "mimetype": "text/x-python",
      "name": "python",
      "nbconvert_exporter": "python",
      "pygments_lexer": "ipython3",
      "version": "3.7.3"
    },
    "colab": {
      "name": "Lab 01 - Python.ipynb",
      "provenance": [],
      "include_colab_link": true
    }
  },
  "cells": [
    {
      "cell_type": "markdown",
      "metadata": {
        "id": "view-in-github",
        "colab_type": "text"
      },
      "source": [
        "<a href=\"https://colab.research.google.com/github/sankirnajoshi/python-for-ds-course/blob/spring-2020/Lab_01_Python.ipynb\" target=\"_parent\"><img src=\"https://colab.research.google.com/assets/colab-badge.svg\" alt=\"Open In Colab\"/></a>"
      ]
    },
    {
      "cell_type": "markdown",
      "metadata": {
        "id": "-BzuV171AB41",
        "colab_type": "text"
      },
      "source": [
        "# Lab 01: Python"
      ]
    },
    {
      "cell_type": "markdown",
      "metadata": {
        "id": "hoekzPeIAB5F",
        "colab_type": "text"
      },
      "source": [
        "## #1\n",
        "What is the difference between Python and Jupyter? Type a comment in your notebook explaining the difference."
      ]
    },
    {
      "cell_type": "code",
      "metadata": {
        "id": "FqX8dK41AB5T",
        "colab_type": "code",
        "colab": {}
      },
      "source": [
        ""
      ],
      "execution_count": 0,
      "outputs": []
    },
    {
      "cell_type": "markdown",
      "metadata": {
        "id": "pCgHcCoCAB56",
        "colab_type": "text"
      },
      "source": [
        "## #2\n",
        "4k monitors are 3840 pixels wide and 2160 pixels tall. Assign these values to variables called `width` and `height`."
      ]
    },
    {
      "cell_type": "code",
      "metadata": {
        "id": "zoPSlWPWAB6F",
        "colab_type": "code",
        "colab": {}
      },
      "source": [
        ""
      ],
      "execution_count": 0,
      "outputs": []
    },
    {
      "cell_type": "markdown",
      "metadata": {
        "id": "0uhN0VsXAB6k",
        "colab_type": "text"
      },
      "source": [
        "## #3\n",
        "Check the values of these variables by printing them"
      ]
    },
    {
      "cell_type": "code",
      "metadata": {
        "id": "a3txqq6SAB6s",
        "colab_type": "code",
        "colab": {}
      },
      "source": [
        ""
      ],
      "execution_count": 0,
      "outputs": []
    },
    {
      "cell_type": "markdown",
      "metadata": {
        "id": "Y0hYVB2yAB7D",
        "colab_type": "text"
      },
      "source": [
        "## #4\n",
        "Create a new variable, `total_pixels`, and assign it the product of *height* and *width*."
      ]
    },
    {
      "cell_type": "code",
      "metadata": {
        "id": "TRAK9qL7AB7M",
        "colab_type": "code",
        "colab": {}
      },
      "source": [
        ""
      ],
      "execution_count": 0,
      "outputs": []
    },
    {
      "cell_type": "markdown",
      "metadata": {
        "id": "1LInJnF4AB7i",
        "colab_type": "text"
      },
      "source": [
        "## #5\n",
        "What type of data is in `total_pixels`? (int, float, string, boolean). Use the `type` function to check."
      ]
    },
    {
      "cell_type": "code",
      "metadata": {
        "id": "mPjdDM-wAB7o",
        "colab_type": "code",
        "colab": {}
      },
      "source": [
        ""
      ],
      "execution_count": 0,
      "outputs": []
    },
    {
      "cell_type": "markdown",
      "metadata": {
        "id": "fYuNxBmnAB8J",
        "colab_type": "text"
      },
      "source": [
        "## #6\n",
        "Create variables `first_name` and `last_name` and in them, store your given name and surname, respectively. Use the `+` operator to \"add\" these together to form your full name.\n",
        "\n",
        "*Hint: You may realize you need to add another character in between them.*"
      ]
    },
    {
      "cell_type": "code",
      "metadata": {
        "id": "dPHuz2w4AB8O",
        "colab_type": "code",
        "colab": {}
      },
      "source": [
        ""
      ],
      "execution_count": 0,
      "outputs": []
    },
    {
      "cell_type": "markdown",
      "metadata": {
        "id": "aYBj5HbqAB8j",
        "colab_type": "text"
      },
      "source": [
        "## #7\n",
        "Run the following code. What type of data is `mystery`? Use the `type` function to check."
      ]
    },
    {
      "cell_type": "code",
      "metadata": {
        "id": "HOKjp1mNAB8p",
        "colab_type": "code",
        "colab": {}
      },
      "source": [
        "mystery = [{'abc': 'def'}]"
      ],
      "execution_count": 0,
      "outputs": []
    },
    {
      "cell_type": "code",
      "metadata": {
        "id": "o747bBMIAB88",
        "colab_type": "code",
        "colab": {}
      },
      "source": [
        ""
      ],
      "execution_count": 0,
      "outputs": []
    },
    {
      "cell_type": "markdown",
      "metadata": {
        "id": "Tg1ZTTXJAB9O",
        "colab_type": "text"
      },
      "source": [
        "## #8\n",
        "What type of data is the first element of `mystery`?\n",
        "\n",
        "*Hint: You'll need to use brackets to access an element by its location.\n",
        "And don't forget Python starts counting at 0!*"
      ]
    },
    {
      "cell_type": "code",
      "metadata": {
        "id": "Olpt1AbyAB9V",
        "colab_type": "code",
        "colab": {}
      },
      "source": [
        ""
      ],
      "execution_count": 0,
      "outputs": []
    },
    {
      "cell_type": "markdown",
      "metadata": {
        "id": "TUMXVfCUAB9u",
        "colab_type": "text"
      },
      "source": [
        "## #9\n",
        "Run the below code. What type of data is in the `df` variable?"
      ]
    },
    {
      "cell_type": "code",
      "metadata": {
        "id": "pZzujxajAB90",
        "colab_type": "code",
        "colab": {}
      },
      "source": [
        "import pandas as pd\n",
        "df = pd.DataFrame([['Coffee', 310], ['Tea', 90]],\n",
        "                  columns=['beverage', 'caffeine'])"
      ],
      "execution_count": 0,
      "outputs": []
    },
    {
      "cell_type": "code",
      "metadata": {
        "id": "pnVLmodAAB-H",
        "colab_type": "code",
        "colab": {}
      },
      "source": [
        ""
      ],
      "execution_count": 0,
      "outputs": []
    },
    {
      "cell_type": "markdown",
      "metadata": {
        "id": "q5siBnOJAB-V",
        "colab_type": "text"
      },
      "source": [
        "## #10\n",
        "Take a look at the arguments we passed into `pd.DataFrame` in #9.\n",
        "What is the type of each of them?"
      ]
    },
    {
      "cell_type": "code",
      "metadata": {
        "id": "0sJ96v8jAB-a",
        "colab_type": "code",
        "colab": {}
      },
      "source": [
        "# You need to fill these in...\n",
        "arg_1 = \n",
        "arg_2 = "
      ],
      "execution_count": 0,
      "outputs": []
    },
    {
      "cell_type": "markdown",
      "metadata": {
        "id": "TV2uGY7OAB-q",
        "colab_type": "text"
      },
      "source": [
        "## #11\n",
        "What would have happened if we hadn't imported Pandas in #8?\n",
        "\n",
        "Run `del pd` to delete the name `pd` from Python's memory, and then run the rest of the code (`df = pd.DataFrame...`) again to see."
      ]
    },
    {
      "cell_type": "code",
      "metadata": {
        "id": "uq0VpqmxAB-u",
        "colab_type": "code",
        "colab": {}
      },
      "source": [
        ""
      ],
      "execution_count": 0,
      "outputs": []
    },
    {
      "cell_type": "markdown",
      "metadata": {
        "id": "eE3gwCVEAB-5",
        "colab_type": "text"
      },
      "source": [
        "## #12\n",
        "Import Pandas again, under the alias `pd` (as before). Use `type` to check -- what type of data is in `pd`?"
      ]
    },
    {
      "cell_type": "code",
      "metadata": {
        "id": "zhI6YKJGAB_A",
        "colab_type": "code",
        "colab": {}
      },
      "source": [
        ""
      ],
      "execution_count": 0,
      "outputs": []
    }
  ]
}